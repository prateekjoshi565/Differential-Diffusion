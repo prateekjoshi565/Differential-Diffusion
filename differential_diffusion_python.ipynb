{
  "nbformat": 4,
  "nbformat_minor": 0,
  "metadata": {
    "colab": {
      "provenance": [],
      "gpuType": "T4"
    },
    "kernelspec": {
      "name": "python3",
      "display_name": "Python 3"
    },
    "language_info": {
      "name": "python"
    },
    "accelerator": "GPU"
  },
  "cells": [
    {
      "cell_type": "markdown",
      "source": [
        "# Differential Diffusion with Python"
      ],
      "metadata": {
        "id": "qaiy1yMUX-oE"
      }
    },
    {
      "cell_type": "code",
      "source": [
        "!pip install accelerate diffusers"
      ],
      "metadata": {
        "id": "iZ6tplPYZRZd"
      },
      "execution_count": null,
      "outputs": []
    },
    {
      "cell_type": "code",
      "execution_count": null,
      "metadata": {
        "id": "x7StOmXMX8Xf"
      },
      "outputs": [],
      "source": [
        "import numpy as np\n",
        "from PIL import Image\n",
        "import torch\n",
        "\n",
        "from torchvision import transforms\n",
        "from diffusers import DiffusionPipeline, DPMSolverMultistepScheduler\n",
        "from diffusers.utils import make_image_grid"
      ]
    },
    {
      "cell_type": "markdown",
      "source": [
        "#Load input image"
      ],
      "metadata": {
        "id": "Hbjk9TMlCzDF"
      }
    },
    {
      "cell_type": "code",
      "source": [
        "input_image = Image.open(\"landscape-1.jpg\")"
      ],
      "metadata": {
        "id": "dFRnPYKdaMuD"
      },
      "execution_count": null,
      "outputs": []
    },
    {
      "cell_type": "code",
      "source": [
        "input_image.size"
      ],
      "metadata": {
        "id": "E4OR-uMBDL_G"
      },
      "execution_count": null,
      "outputs": []
    },
    {
      "cell_type": "code",
      "source": [
        "height = 876\n",
        "width = 1280\n",
        "\n",
        "# Create a numpy array for the image\n",
        "gradient = np.zeros((height, width), dtype=np.uint8)\n",
        "\n",
        "# Generate the gradient\n",
        "for y in range(height):\n",
        "    color_value = int(255 * y / (height))\n",
        "    gradient[y, :] = color_value\n",
        "\n",
        "# Convert the numpy array into an image\n",
        "mask = Image.fromarray(gradient, mode='L')\n",
        "\n",
        "# flip horizontal\n",
        "mask = mask.transpose(Image.FLIP_TOP_BOTTOM)"
      ],
      "metadata": {
        "id": "x4mqZerAC4JX"
      },
      "execution_count": null,
      "outputs": []
    },
    {
      "cell_type": "code",
      "source": [
        "make_image_grid([input_image, mask], cols=2, rows=1)"
      ],
      "metadata": {
        "id": "_gbU4GGvDlvY"
      },
      "execution_count": null,
      "outputs": []
    },
    {
      "cell_type": "code",
      "source": [
        "def preprocess_image(image):\n",
        "    image = image.convert(\"RGB\")\n",
        "    image = transforms.CenterCrop((image.size[1] // 64 * 64, image.size[0] // 64 * 64))(image)\n",
        "    image = transforms.ToTensor()(image)\n",
        "    image = image * 2 - 1\n",
        "    image = image.unsqueeze(0).to(\"cuda\")\n",
        "    return image\n",
        "\n",
        "def preprocess_map(map):\n",
        "    map = map.convert(\"L\")\n",
        "    map = transforms.CenterCrop((map.size[1] // 64 * 64, map.size[0] // 64 * 64))(map)\n",
        "    map = transforms.ToTensor()(map)\n",
        "    map = map.to(\"cuda\")\n",
        "    return map"
      ],
      "metadata": {
        "id": "1N8ftudbDr23"
      },
      "execution_count": null,
      "outputs": []
    },
    {
      "cell_type": "code",
      "source": [
        "image = preprocess_image(input_image)\n",
        "mask = preprocess_map(mask)"
      ],
      "metadata": {
        "id": "3OgyuPO7F2eu"
      },
      "execution_count": null,
      "outputs": []
    },
    {
      "cell_type": "code",
      "source": [
        "pipe = DiffusionPipeline.from_pretrained(\n",
        "    \"SG161222/RealVisXL_V4.0\",\n",
        "    torch_dtype=torch.float16,\n",
        "    variant=\"fp16\",\n",
        "    custom_pipeline=\"pipeline_stable_diffusion_xl_differential_img2img\"\n",
        ")\n",
        "\n",
        "pipe.enable_model_cpu_offload()"
      ],
      "metadata": {
        "id": "AhMVsJIEG9IO"
      },
      "execution_count": null,
      "outputs": []
    },
    {
      "cell_type": "code",
      "source": [
        "pipe.scheduler = DPMSolverMultistepScheduler.from_config(\n",
        "    pipe.scheduler.config,\n",
        "    use_karras_sigmas=True\n",
        ")"
      ],
      "metadata": {
        "id": "HWGSHEaDLzEJ"
      },
      "execution_count": null,
      "outputs": []
    },
    {
      "cell_type": "code",
      "source": [
        "prompt = \"\"\"\n",
        "(masterpiece:1.2), a rainy mushroom garden, unreal engine cinematic smooth,\n",
        "intricate detail, kids story book style, muted colors, watercolor,\n",
        "8k, highly detailed, (best quality:1.2)\n",
        "\"\"\"\n",
        "\n",
        "negative_prompt = \"blurry, low quality, lowres\"\n",
        "\n",
        "output_image = pipe(\n",
        "\n",
        "    prompt              = prompt,\n",
        "    negative_prompt     = negative_prompt,\n",
        "    guidance_scale      = 7,\n",
        "    num_inference_steps = 30,\n",
        "    original_image      = image,\n",
        "    image               = image,\n",
        "    strength            = 0.9,\n",
        "    map                 = mask).images[0]"
      ],
      "metadata": {
        "id": "qqVNX3DmMDh2"
      },
      "execution_count": null,
      "outputs": []
    },
    {
      "cell_type": "code",
      "source": [
        "make_image_grid([input_image, output_image], cols=2, rows=1)"
      ],
      "metadata": {
        "id": "ClB_oAWhMRY8"
      },
      "execution_count": null,
      "outputs": []
    },
    {
      "cell_type": "code",
      "source": [],
      "metadata": {
        "id": "f514Zk93MvaO"
      },
      "execution_count": null,
      "outputs": []
    }
  ]
}